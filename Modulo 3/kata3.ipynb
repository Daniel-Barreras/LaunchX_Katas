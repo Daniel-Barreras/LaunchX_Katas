{
 "cells": [
  {
   "cell_type": "markdown",
   "metadata": {},
   "source": [
    "## Ejercicio - Escribir declaraciones `if`, `else` y `elif`"
   ]
  },
  {
   "cell_type": "code",
   "execution_count": 1,
   "metadata": {},
   "outputs": [
    {
     "name": "stdout",
     "output_type": "stream",
     "text": [
      "!Cuidado! un asteroide se acerca demasiado rápido\n"
     ]
    }
   ],
   "source": [
    "velocidadAsteroide = 49\n",
    "\n",
    "if velocidadAsteroide > 25:\n",
    "    print(\"!Cuidado! un asteroide se acerca demasiado rápido\")\n",
    "else:\n",
    "    print(\"Todo parece estar tranquilo, ¡pero no te confies!\")\n"
   ]
  },
  {
   "cell_type": "code",
   "execution_count": 2,
   "metadata": {},
   "outputs": [
    {
     "name": "stdout",
     "output_type": "stream",
     "text": [
      "Nada extraordinario en el cielo\n"
     ]
    }
   ],
   "source": [
    "velocidadAsteroide = 19\n",
    "\n",
    "if velocidadAsteroide >= 20:\n",
    "    print(\"!Mira! hay una luz brillante en el cielo\")\n",
    "else:\n",
    "    print(\"Nada extraordinario en el cielo\")"
   ]
  },
  {
   "cell_type": "markdown",
   "metadata": {},
   "source": [
    "## Ejercicio: Uso de operadores `and` y `or`"
   ]
  },
  {
   "cell_type": "code",
   "execution_count": 3,
   "metadata": {},
   "outputs": [
    {
     "name": "stdout",
     "output_type": "stream",
     "text": [
      "Un asteroide se acerca rapidamente , pero se desintegrará en la atmosfera\n"
     ]
    }
   ],
   "source": [
    "tamañoAsteroide = 20\n",
    "velocidadAsteroide = 30\n",
    "\n",
    "if velocidadAsteroide > 25 and tamañoAsteroide > 25:\n",
    "    print(\"!Urgente¡ un asteroide de gran tamaño va a impactar en la tierra !Iniciar protocolo de defensa!\")\n",
    "elif velocidadAsteroide > 25 and tamañoAsteroide < 25:\n",
    "    print(\"Un asteroide se acerca rapidamente , pero se desintegrará en la atmosfera\")\n",
    "elif velocidadAsteroide >=20:\n",
    "    print(\"!Mira! hay una luz brillante en el cielo\")\n",
    "else:\n",
    "    print(\"Todo parece estar tranquilo\")\n",
    "    "
   ]
  }
 ],
 "metadata": {
  "interpreter": {
   "hash": "2be5faf79681da6f2a61fdfdd5405d65d042280f7fba6178067603e3a2925119"
  },
  "kernelspec": {
   "display_name": "Python 3.10.0 64-bit",
   "language": "python",
   "name": "python3"
  },
  "language_info": {
   "codemirror_mode": {
    "name": "ipython",
    "version": 3
   },
   "file_extension": ".py",
   "mimetype": "text/x-python",
   "name": "python",
   "nbconvert_exporter": "python",
   "pygments_lexer": "ipython3",
   "version": "3.10.0"
  },
  "orig_nbformat": 4
 },
 "nbformat": 4,
 "nbformat_minor": 2
}
