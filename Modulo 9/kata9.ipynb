{
 "cells": [
  {
   "cell_type": "markdown",
   "metadata": {},
   "source": [
    "# Ejercicio: Uso de funciones en Python \n",
    "\n",
    "### Ejercicio 1: Trabajar con argumentos en funciones"
   ]
  },
  {
   "cell_type": "code",
   "execution_count": 8,
   "metadata": {},
   "outputs": [],
   "source": [
    "def informeCombustible(tanque1, tanque2, tanque3):\n",
    "    promedio = (tanque1 + tanque2 + tanque3)/3\n",
    "    return f\"\"\"Reporte de combustible\\n{\"-\"*50}\n",
    "    Promedio: {promedio}%\n",
    "    Tanque 1: {tanque1}%\n",
    "    Tanque 2: {tanque2}%\n",
    "    Tanque 3: {tanque3}%\"\"\""
   ]
  },
  {
   "cell_type": "code",
   "execution_count": 9,
   "metadata": {},
   "outputs": [
    {
     "name": "stdout",
     "output_type": "stream",
     "text": [
      "Reporte de combustible\n",
      "--------------------------------------------------\n",
      "    Promedio: 38.333333333333336%\n",
      "    Tanque 1: 30%\n",
      "    Tanque 2: 70%\n",
      "    Tanque 3: 15%\n"
     ]
    }
   ],
   "source": [
    "print(informeCombustible(30, 70, 15))"
   ]
  },
  {
   "cell_type": "code",
   "execution_count": 10,
   "metadata": {},
   "outputs": [],
   "source": [
    "def promedioCombustible(*tanques):\n",
    "    return sum(tanques)/3"
   ]
  },
  {
   "cell_type": "code",
   "execution_count": 11,
   "metadata": {},
   "outputs": [
    {
     "name": "stdout",
     "output_type": "stream",
     "text": [
      "Reporte de combustible\n",
      "----------------------------------------\n",
      "    Promedio: 46.0%\n",
      "    Tanque 1: 48%\n",
      "    Tanque 2: 36%\n",
      "    Tanque 3: 54%\n"
     ]
    }
   ],
   "source": [
    "def informePromedio(tanque1, tanque2, tanque3):\n",
    "    return f\"\"\"Reporte de combustible\\n{\"-\"*40}\n",
    "    Promedio: {promedioCombustible(tanque1, tanque2, tanque3)}%\n",
    "    Tanque 1: {tanque1}%\n",
    "    Tanque 2: {tanque2}%\n",
    "    Tanque 3: {tanque3}%\"\"\"\n",
    "\n",
    "print(informePromedio(48, 36, 54))"
   ]
  },
  {
   "cell_type": "markdown",
   "metadata": {},
   "source": [
    "## Ejercicio 2: Trabajo con argumentos de palabra clave \n",
    "\n",
    "### Ejercicio: Trabajar con argumentos de palabras clave en funciones"
   ]
  },
  {
   "cell_type": "code",
   "execution_count": 16,
   "metadata": {},
   "outputs": [
    {
     "name": "stdout",
     "output_type": "stream",
     "text": [
      "Informe del cohete\n",
      "\n",
      "    Tiempo de vuelo: 1.25 horas \n",
      "    Destino: Luna\n",
      "    Tanque interno: 40\n",
      "    Tanque externo: 85\n"
     ]
    }
   ],
   "source": [
    "def informeMision(prelanzamiento, destino, tiempoVuelo, tanqueInterno, tanqueExterno):\n",
    "    return f\"\"\"Informe del cohete\\n{\"\"*40}\n",
    "    Tiempo de vuelo: {(prelanzamiento + tiempoVuelo)/60} horas \n",
    "    Destino: {destino}\n",
    "    Tanque interno: {tanqueInterno}\n",
    "    Tanque externo: {tanqueExterno}\"\"\"\n",
    "\n",
    "print(informeMision(27,'Luna', 48, 40, 85))"
   ]
  },
  {
   "cell_type": "code",
   "execution_count": 13,
   "metadata": {},
   "outputs": [
    {
     "name": "stdout",
     "output_type": "stream",
     "text": [
      "Informe del Cohete\n",
      "----------------------------------------\n",
      "Tiempo de vuelo: 4.5 horas\n",
      "Destino: Luna\n",
      "Combustible total: 65.0%\n",
      "\n"
     ]
    }
   ],
   "source": [
    "def informeMision( destino,*minutos, **reservasCombustible):\n",
    "    reporte = f\"\"\"Informe del Cohete\\n{\"-\"*40}\n",
    "Tiempo de vuelo: {sum(minutos)/60} horas\n",
    "Destino: {destino}\n",
    "Combustible total: {sum(reservasCombustible.values())/len(reservasCombustible)}%\n",
    "\"\"\"\n",
    "    return reporte\n",
    "\n",
    "print(informeMision('Luna', 58,86,34,24,68, tanqueInterno=40, tanqueExterno=85, tanqueHidrogeno=70))"
   ]
  },
  {
   "cell_type": "code",
   "execution_count": 14,
   "metadata": {},
   "outputs": [
    {
     "name": "stdout",
     "output_type": "stream",
     "text": [
      "Informe del Cohete\n",
      "----------------------------------------\n",
      "Tiempo de vuelo: 4.5 horas\n",
      "Destino: Luna\n",
      "Combustible total: 65.0%\n",
      "Tanque Interno: 40%\n",
      "Tanque Externo: 85%\n",
      "Tanque Reserva: 70%\n",
      "\n"
     ]
    }
   ],
   "source": [
    "def informeMision(destino,*minutos, **reservasCombustible):\n",
    "    reporte = f\"\"\"Informe del Cohete\\n{\"-\"*40}\n",
    "Tiempo de vuelo: {sum(minutos)/60} horas\n",
    "Destino: {destino}\n",
    "Combustible total: {sum(reservasCombustible.values())/len(reservasCombustible)}%\n",
    "\"\"\"\n",
    "    for tank, fuel in reservasCombustible.items():\n",
    "        reporte+=f\"\"\"Tanque {tank}: {fuel}%\\n\"\"\"\n",
    "    return reporte\n",
    "\n",
    "print(informeMision('Luna', 58,86,34,24,68, Interno=40, Externo=85, Reserva=70))"
   ]
  }
 ],
 "metadata": {
  "interpreter": {
   "hash": "2be5faf79681da6f2a61fdfdd5405d65d042280f7fba6178067603e3a2925119"
  },
  "kernelspec": {
   "display_name": "Python 3.10.0 64-bit",
   "language": "python",
   "name": "python3"
  },
  "language_info": {
   "codemirror_mode": {
    "name": "ipython",
    "version": 3
   },
   "file_extension": ".py",
   "mimetype": "text/x-python",
   "name": "python",
   "nbconvert_exporter": "python",
   "pygments_lexer": "ipython3",
   "version": "3.10.0"
  },
  "orig_nbformat": 4
 },
 "nbformat": 4,
 "nbformat_minor": 2
}
